{
 "cells": [
  {
   "cell_type": "code",
   "execution_count": null,
   "id": "69a835d3",
   "metadata": {},
   "outputs": [],
   "source": [
    "#read crypto_data.csv into Pandas"
   ]
  },
  {
   "cell_type": "code",
   "execution_count": null,
   "id": "a6dd8932",
   "metadata": {},
   "outputs": [],
   "source": [
    "#Discard all cryptocurrencies that are not being traded. \n",
    "#In other words, filter for currencies that are currently being traded. \n",
    "#Once you have done this, drop the IsTrading column from the dataframe."
   ]
  },
  {
   "cell_type": "code",
   "execution_count": null,
   "id": "e12452cb",
   "metadata": {},
   "outputs": [],
   "source": [
    "#Remove all rows that have at least one null value.\n",
    "\n",
    "\n"
   ]
  },
  {
   "cell_type": "code",
   "execution_count": null,
   "id": "6ec74277",
   "metadata": {},
   "outputs": [],
   "source": [
    "#Filter for cryptocurrencies that have been mined. That is, the total coins mined should be greater than zero.\n",
    "\n",
    "\n"
   ]
  },
  {
   "cell_type": "code",
   "execution_count": null,
   "id": "089f0c6c",
   "metadata": {},
   "outputs": [],
   "source": [
    "#delete the CoinName from the original dataframe."
   ]
  },
  {
   "cell_type": "code",
   "execution_count": null,
   "id": "fef0c0f6",
   "metadata": {},
   "outputs": [],
   "source": [
    "#convert the remaining features with text values, Algorithm and ProofType, into numerical data. \n",
    "#To accomplish this task, use Pandas to create dummy variables\n"
   ]
  },
  {
   "cell_type": "code",
   "execution_count": null,
   "id": "2ed20a17",
   "metadata": {},
   "outputs": [],
   "source": [
    "#Standardize your dataset so that columns that contain larger values do not unduly influence the outcome.\n",
    "\n",
    "\n",
    "\n"
   ]
  },
  {
   "cell_type": "code",
   "execution_count": null,
   "id": "b2af82ae",
   "metadata": {},
   "outputs": [],
   "source": [
    "# Perform dimensionality reduction with PCA, PCA(n_components=0.90) \n",
    "\n",
    "#check shape of reduced data"
   ]
  },
  {
   "cell_type": "code",
   "execution_count": null,
   "id": "9594d629",
   "metadata": {},
   "outputs": [],
   "source": [
    "#run t-SNE on the principal components: the output of the PCA transformation. \n",
    "#Then create a scatter plot of the t-SNE output. "
   ]
  },
  {
   "cell_type": "code",
   "execution_count": null,
   "id": "d6dd92b4",
   "metadata": {},
   "outputs": [],
   "source": [
    "# Create an elbow plot to identify the best number of clusters. Use a for-loop to determine the inertia for each k between 1 through 10. Determine, if possible, where the elbow of the plot is, and at which value of k it appears."
   ]
  },
  {
   "cell_type": "code",
   "execution_count": null,
   "id": "5a50abf8",
   "metadata": {},
   "outputs": [],
   "source": [
    "#Based on your findings, make a brief (1-2 sentences) recommendation to your clients. Can the cryptocurrencies be clustered together? If so, into how many clusters?"
   ]
  },
  {
   "cell_type": "code",
   "execution_count": null,
   "id": "c44cc6b4",
   "metadata": {},
   "outputs": [],
   "source": []
  },
  {
   "cell_type": "code",
   "execution_count": null,
   "id": "c415e0ff",
   "metadata": {},
   "outputs": [],
   "source": []
  },
  {
   "cell_type": "code",
   "execution_count": null,
   "id": "24b0d58a",
   "metadata": {},
   "outputs": [],
   "source": []
  },
  {
   "cell_type": "code",
   "execution_count": null,
   "id": "a022b489",
   "metadata": {},
   "outputs": [],
   "source": []
  },
  {
   "cell_type": "code",
   "execution_count": null,
   "id": "9e37d3da",
   "metadata": {},
   "outputs": [],
   "source": []
  }
 ],
 "metadata": {
  "kernelspec": {
   "display_name": "Python [conda env:PythonData] *",
   "language": "python",
   "name": "conda-env-PythonData-py"
  },
  "language_info": {
   "codemirror_mode": {
    "name": "ipython",
    "version": 3
   },
   "file_extension": ".py",
   "mimetype": "text/x-python",
   "name": "python",
   "nbconvert_exporter": "python",
   "pygments_lexer": "ipython3",
   "version": "3.8.11"
  }
 },
 "nbformat": 4,
 "nbformat_minor": 5
}
